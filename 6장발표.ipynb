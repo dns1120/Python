{
 "cells": [
  {
   "cell_type": "code",
   "execution_count": 2,
   "metadata": {},
   "outputs": [],
   "source": [
    "#구구단 기능의 함수\n",
    "#구구단 함수 정의\n",
    "def gugu(n):\n",
    "    result = []\n",
    "    result.append(n*1)\n",
    "    result.append(n*2)\n",
    "    result.append(n*3)\n",
    "    result.append(n*4)\n",
    "    result.append(n*5)\n",
    "    result.append(n*6)\n",
    "    result.append(n*7)\n",
    "    result.append(n*8)\n",
    "    result.append(n*9)\n",
    "    return result\n",
    "#n 을 매개변수로 결과는 위의 과정 거친 후의 값을 추가하여 리스트에 저장(append)"
   ]
  },
  {
   "cell_type": "code",
   "execution_count": 3,
   "metadata": {},
   "outputs": [
    {
     "name": "stdout",
     "output_type": "stream",
     "text": [
      "[2, 4, 6, 8, 10, 12, 14, 16, 18]\n"
     ]
    }
   ],
   "source": [
    "print(gugu(2))"
   ]
  },
  {
   "cell_type": "code",
   "execution_count": 8,
   "metadata": {},
   "outputs": [],
   "source": [
    "#위의 구구단 함수는 불필요한 문장이 너무 많음(반복문으로 해결 가능)\n",
    "def gugu(n):\n",
    "    result = []\n",
    "    i = 1\n",
    "    while i < 10:\n",
    "        result.append(n*i)\n",
    "        i = i + 1\n",
    "    return result"
   ]
  },
  {
   "cell_type": "code",
   "execution_count": 9,
   "metadata": {},
   "outputs": [
    {
     "data": {
      "text/plain": [
       "[2, 4, 6, 8, 10, 12, 14, 16, 18]"
      ]
     },
     "execution_count": 9,
     "metadata": {},
     "output_type": "execute_result"
    }
   ],
   "source": [
    "gugu(2)"
   ]
  },
  {
   "cell_type": "code",
   "execution_count": 10,
   "metadata": {},
   "outputs": [
    {
     "name": "stdout",
     "output_type": "stream",
     "text": [
      "233168\n"
     ]
    }
   ],
   "source": [
    "#3과 5의 배수 핪하기\n",
    "result = 0 #result 변수 정의\n",
    "for n in range(1, 1000): #범위 설정\n",
    "    if n % 3 == 0 or n % 5 == 0: #조건\n",
    "        result += n #해당 값마다 n에 축적시킴\n",
    "print(result)"
   ]
  },
  {
   "cell_type": "code",
   "execution_count": 12,
   "metadata": {},
   "outputs": [
    {
     "name": "stdout",
     "output_type": "stream",
     "text": [
      "1\n",
      "2\n",
      "3\n",
      "3\n"
     ]
    }
   ],
   "source": [
    "def getTotalPage(m,n):\n",
    "    if m % n == 0: \n",
    "        return m // n #몫 연산자를 통해 중간의 소수가 나올 수 있는 값을 정수화 시킨다.\n",
    "    else:\n",
    "        return m // n + 1 # 5//10 의 경우 0이 나오는데, 이때 1을 더해주어 1페이지가 나오게 함. 나머지도 마찬가지.\n",
    "    \n",
    "print(getTotalPage(5,10))\n",
    "print(getTotalPage(15,10))\n",
    "print(getTotalPage(25,10))\n",
    "print(getTotalPage(30,10))"
   ]
  },
  {
   "cell_type": "code",
   "execution_count": 13,
   "metadata": {},
   "outputs": [
    {
     "data": {
      "text/plain": [
       "36"
      ]
     },
     "execution_count": 13,
     "metadata": {},
     "output_type": "execute_result"
    }
   ],
   "source": [
    "#유클리드 호제법을 이용한 최대공약수 구하기.\n",
    "def gcd(a, b): # 함수 이름 정의\n",
    "    mod = a%b  # 나머지 연산된 값 저장\n",
    "    while mod > 0: # 나머지 연산된 값이 0보다 클때로 상정\n",
    "        a = b \n",
    "        b = mod\n",
    "        mod = a % b\n",
    "    return b\n",
    "gcd(78696, 19332)"
   ]
  },
  {
   "cell_type": "code",
   "execution_count": null,
   "metadata": {},
   "outputs": [],
   "source": [
    "# a % b = mod1\n",
    "# b % mod1 = mod2\n",
    "# mod1 % mod2 = mod3\n",
    "# mod2 % mod3 = mod4\n",
    "# ...."
   ]
  }
 ],
 "metadata": {
  "kernelspec": {
   "display_name": "Python 3",
   "language": "python",
   "name": "python3"
  },
  "language_info": {
   "codemirror_mode": {
    "name": "ipython",
    "version": 3
   },
   "file_extension": ".py",
   "mimetype": "text/x-python",
   "name": "python",
   "nbconvert_exporter": "python",
   "pygments_lexer": "ipython3",
   "version": "3.6.8"
  }
 },
 "nbformat": 4,
 "nbformat_minor": 2
}
